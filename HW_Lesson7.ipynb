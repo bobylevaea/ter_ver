{
 "cells": [
  {
   "cell_type": "markdown",
   "metadata": {},
   "source": [
    "# Задача 1. \n",
    "Даны две независимые выборки. Не соблюдается условие нормальности  \n",
    "x1 380,420, 290  \n",
    "y1 140,360,200,900  \n",
    "Сделайте вывод по результатам, полученным с помощью функции, имеются ли статистические различия между группами?  "
   ]
  },
  {
   "cell_type": "code",
   "execution_count": 2,
   "metadata": {},
   "outputs": [],
   "source": [
    "import numpy as np\n",
    "import scipy.stats as stats"
   ]
  },
  {
   "cell_type": "code",
   "execution_count": 3,
   "metadata": {},
   "outputs": [
    {
     "data": {
      "text/plain": [
       "MannwhitneyuResult(statistic=8.0, pvalue=0.6285714285714286)"
      ]
     },
     "execution_count": 3,
     "metadata": {},
     "output_type": "execute_result"
    }
   ],
   "source": [
    "x1 = np.array([380, 420, 290])\n",
    "y1 = np.array([140, 360, 200, 900])\n",
    "alpha = 0.05\n",
    "\n",
    "stats.mannwhitneyu(x1, y1)"
   ]
  },
  {
   "cell_type": "markdown",
   "metadata": {},
   "source": [
    "$p-value > \\alpha$ -> $H_0$ не отвергается, статистических различий между группами нет. "
   ]
  },
  {
   "cell_type": "markdown",
   "metadata": {},
   "source": [
    "## Задача 2. \n",
    "Исследовалось влияние препарата на уровень давления пациентов.  \n",
    "Сначала измерялось давление до приема препарата, потом через 10 минут и через 30 минут.  \n",
    "Есть ли статистически значимые различия между измерениями давления?   \n",
    "В выборках не соблюдается условие нормальности.  \n",
    "   \n",
    "1е измерение до приема препарата: 150, 160, 165, 145, 155  \n",
    "2е измерение через 10 минут: 140, 155, 150, 130, 135  \n",
    "3е измерение через 30 минут: 130, 130, 120, 130, 125  "
   ]
  },
  {
   "cell_type": "code",
   "execution_count": 1,
   "metadata": {},
   "outputs": [],
   "source": [
    "import numpy as np\n",
    "import scipy.stats as stats"
   ]
  },
  {
   "cell_type": "code",
   "execution_count": 2,
   "metadata": {},
   "outputs": [
    {
     "data": {
      "text/plain": [
       "FriedmanchisquareResult(statistic=9.578947368421062, pvalue=0.00831683351100441)"
      ]
     },
     "execution_count": 2,
     "metadata": {},
     "output_type": "execute_result"
    }
   ],
   "source": [
    "x1 = np.array([150, 160, 165, 145, 155])\n",
    "x2 = np.array([140, 155, 150, 130, 135])\n",
    "x3 = np.array([130, 130, 120, 130, 125])\n",
    "alpha = 0.05\n",
    "\n",
    "stats.friedmanchisquare(x1, x2, x3)"
   ]
  },
  {
   "cell_type": "markdown",
   "metadata": {},
   "source": [
    "$p-value < \\alpha$ -> $H_0$ отвергается, статистически значимые различий есть, препарат влияет на давление. "
   ]
  },
  {
   "cell_type": "markdown",
   "metadata": {},
   "source": [
    "## Задача 3. \n",
    "Сравните 1 и 2 е измерения, предполагая, что 3го измерения через 30 минут не было.  \n",
    "Есть ли статистически значимые различия между измерениями давления?  "
   ]
  },
  {
   "cell_type": "code",
   "execution_count": 4,
   "metadata": {},
   "outputs": [],
   "source": [
    "import numpy as np\n",
    "import scipy.stats as stats"
   ]
  },
  {
   "cell_type": "code",
   "execution_count": 5,
   "metadata": {},
   "outputs": [
    {
     "data": {
      "text/plain": [
       "WilcoxonResult(statistic=0.0, pvalue=0.0625)"
      ]
     },
     "execution_count": 5,
     "metadata": {},
     "output_type": "execute_result"
    }
   ],
   "source": [
    "x1 = np.array([150, 160, 165, 145, 155])\n",
    "x2 = np.array([140, 155, 150, 130, 135])\n",
    "alpha = 0.05\n",
    "stats.wilcoxon(x1, x2)"
   ]
  },
  {
   "cell_type": "markdown",
   "metadata": {},
   "source": [
    "$p-value > \\alpha$ -> $H_0$ не отвергается, статистических различий между группами нет, препарат не влияет на давление."
   ]
  },
  {
   "cell_type": "markdown",
   "metadata": {},
   "source": [
    "## Задача 4. \n",
    "Даны 3 группы учеников плавания. Не соблюдается условие нормальности.  \n",
    "В 1 группе время на дистанцию 50 м составляют: 56, 60, 62, 55, 71, 67, 59, 58, 64, 67  \n",
    "Вторая группа: 57, 58, 69, 48, 72, 70, 68, 71, 50, 53  \n",
    "Третья группа: 57, 67, 49, 48, 47, 55, 66, 51, 54  \n",
    "Есть ли статистически значимые различия между группами?  "
   ]
  },
  {
   "cell_type": "code",
   "execution_count": 1,
   "metadata": {},
   "outputs": [],
   "source": [
    "import numpy as np\n",
    "import scipy.stats as stats"
   ]
  },
  {
   "cell_type": "code",
   "execution_count": 2,
   "metadata": {},
   "outputs": [
    {
     "data": {
      "text/plain": [
       "KruskalResult(statistic=5.465564058257224, pvalue=0.06503809985904942)"
      ]
     },
     "execution_count": 2,
     "metadata": {},
     "output_type": "execute_result"
    }
   ],
   "source": [
    "x1 = np.array([56, 60, 62, 55, 71, 67, 59, 58, 64, 67])\n",
    "x2 = np.array([57, 58, 69, 48, 72, 70, 68, 71, 50, 53])\n",
    "x3 = np.array([57, 67, 49, 48, 47, 55, 66, 51, 54])\n",
    "alpha = 0.05\n",
    "stats.kruskal(x1, x2, x3)"
   ]
  },
  {
   "cell_type": "markdown",
   "metadata": {},
   "source": [
    "$p-value > \\alpha$ -> $H_0$ не отвергается, статистических различий между группами нет, время на дистанцию одинаковое."
   ]
  },
  {
   "cell_type": "markdown",
   "metadata": {},
   "source": [
    "## Задача 5. \n",
    "Заявляется, что партия изготавливается со средним арифметическим 2,5 см.  \n",
    "Проверить данную гипотезу, если известно, что размеры изделий подчинены нормальному закону распределения.  \n",
    "Объем выборки 10, уровень статистической значимости 5%   \n",
    "2.51, 2.35, 2.74, 2.56, 2.40, 2.36, 2.65, 2.7, 2.67, 2.34   "
   ]
  },
  {
   "cell_type": "code",
   "execution_count": 2,
   "metadata": {},
   "outputs": [],
   "source": [
    "import numpy as np\n",
    "import scipy.stats as stats"
   ]
  },
  {
   "cell_type": "markdown",
   "metadata": {},
   "source": [
    "#### 1. Определяем гипотезу\n",
    "\n",
    "Основаная гипотеза $H_0: M(X)=2.5, \\mu=\\mu_0$  \n",
    "Альтернативная гипотеза $H_1: M(X)=2.5, \\mu\\neq\\mu_0$  \n",
    "$ ДКО: \\Omega_\\alpha=(- \\infty, t_{\\alpha/2},) \\cup (t_{1-\\alpha/2}, \\infty)$  \n",
    "\n",
    "#### 2. Определяем наблюдаемое критерий\n",
    "\n",
    "Нам неизвестна дисперсия и мы проверяем гипотезу относительно математического ожидания нормально распределённой случайной величины будем использовать $t$-критерий.  \n",
    "$t=\\dfrac{\\overline{X}-\\mu}{\\sigma_X/\\sqrt{n}}$:\n",
    "\n",
    "Размер выборки: $n=10$, $ \\mu=2.5$  "
   ]
  },
  {
   "cell_type": "code",
   "execution_count": 3,
   "metadata": {},
   "outputs": [],
   "source": [
    "arr = [2.51, 2.35, 2.74, 2.56, 2.40, 2.36, 2.65, 2.7, 2.67, 2.34]"
   ]
  },
  {
   "cell_type": "markdown",
   "metadata": {},
   "source": [
    "Расчитаем наблюдаемое значение $t$-критерия $t_н$"
   ]
  },
  {
   "cell_type": "code",
   "execution_count": 4,
   "metadata": {},
   "outputs": [
    {
     "name": "stdout",
     "output_type": "stream",
     "text": [
      "Наблюдаемое значение t-критерия: 0.5631\n"
     ]
    }
   ],
   "source": [
    "n = 10\n",
    "mu = 2.5\n",
    "x_mean = np.mean(arr)\n",
    "sigma = np.std(arr, ddof = 1)\n",
    "tn = (x_mean - mu) / (sigma / n**0.5)\n",
    "print(f'Наблюдаемое значение t-критерия: {round(tn, 4)}')"
   ]
  },
  {
   "cell_type": "markdown",
   "metadata": {},
   "source": [
    "### 3. Определяем уровень значимости\n",
    "\n",
    "$\\alpha=0.05$  "
   ]
  },
  {
   "cell_type": "code",
   "execution_count": 8,
   "metadata": {},
   "outputs": [
    {
     "name": "stdout",
     "output_type": "stream",
     "text": [
      "Табличное значение t-критерия: t2 = -2.2622, t1 = 2.2622\n"
     ]
    }
   ],
   "source": [
    "alpha = 0.05\n",
    "\n",
    "t1 = stats.t.ppf(1 - alpha / 2, n - 1)\n",
    "t2 = stats.t.ppf(alpha / 2, n - 1)\n",
    "print(f'Табличное значение t-критерия: t2 = {round(t2, 4)}, t1 = {round(t1, 4)}')"
   ]
  },
  {
   "cell_type": "code",
   "execution_count": 9,
   "metadata": {},
   "outputs": [
    {
     "data": {
      "text/plain": [
       "True"
      ]
     },
     "execution_count": 9,
     "metadata": {},
     "output_type": "execute_result"
    }
   ],
   "source": [
    "t2 < np.abs(tn) < t1"
   ]
  },
  {
   "cell_type": "markdown",
   "metadata": {},
   "source": [
    "#### 5. Так как $t_2<|t_н|<t_1$, то нулевая гипотеза $H_0$ не отвергается."
   ]
  }
 ],
 "metadata": {
  "kernelspec": {
   "display_name": "Python 3 (ipykernel)",
   "language": "python",
   "name": "python3"
  },
  "language_info": {
   "codemirror_mode": {
    "name": "ipython",
    "version": 3
   },
   "file_extension": ".py",
   "mimetype": "text/x-python",
   "name": "python",
   "nbconvert_exporter": "python",
   "pygments_lexer": "ipython3",
   "version": "3.10.10"
  }
 },
 "nbformat": 4,
 "nbformat_minor": 4
}
