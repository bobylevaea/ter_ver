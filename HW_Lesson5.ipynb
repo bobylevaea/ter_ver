{
 "cells": [
  {
   "cell_type": "markdown",
   "id": "eleven-burke",
   "metadata": {},
   "source": [
    "## <center>Практическое задание к лекции 5."
   ]
  },
  {
   "cell_type": "markdown",
   "id": "c8c0f56f-b31a-46a9-855c-eb13a69d715b",
   "metadata": {},
   "source": [
    "**1. Когда используется критерий Стьюдента, а когда Z –критерий?**"
   ]
  },
  {
   "cell_type": "markdown",
   "id": "ea5b8e15-9e5e-43cb-bd43-530a0c985176",
   "metadata": {},
   "source": [
    "**Критерий Стьюдента используется:**\n",
    "1. Когда стандартное отклонение популяции неизвестно и требуется его оценить на основе образца данных.\n",
    "2. Для сравнения средних значений двух групп.\n",
    "3. Для сравнения средних значений двух выборок, при условии, что данные для обеих групп приблизительно нормально распределены."
   ]
  },
  {
   "cell_type": "markdown",
   "id": "5e593bef-416d-4e8a-a8d5-42b2ce5293db",
   "metadata": {},
   "source": [
    "**Закон Z-критерия используется:**\n",
    "1. Когда известны среднее значение и стандартное отклонение генеральной совокупности, и предполагается, что распределение популяции нормально.\n",
    "2. Для проверки гипотезы о равенстве среднего значения генеральной совокупности с известным значением.\n",
    "3. При известных среднем значении и стандартном отклонении генеральной совокупности для оценки точности среднего значения в генеральной совокупности и оценки того, насколько данные в выборке представляют собой нормальное распределение."
   ]
  },
  {
   "cell_type": "markdown",
   "id": "approximate-essence",
   "metadata": {},
   "source": [
    "**2. Утверждается, что шарики для подшипников, изготовленные автоматическим станком, имеют средний диаметр 17 мм. Используя односторонний критерий с $\\alpha=0.05$ проверить эту гипотезу, если в выборке из $n=100$ шариков средний диаметр оказался равным 17.5 мм, а дисперсия известна и равна 4 кв.мм.**  "
   ]
  },
  {
   "cell_type": "markdown",
   "id": "structural-knight",
   "metadata": {},
   "source": [
    "Сформулируем нулевую гипотезу:  \n",
    "$H0: \\mu=\\mu_0=17$, где $\\mu$ и $\\mu_0$ средние выборки и генеральной совокупности и выборки, соответственно.  \n",
    "Альтернативная гипотеза:  \n",
    "$H1: \\mu>\\mu_0$  \n",
    "Поскольку нам известны и среднее и дисперсия генеральной совокупности, то для проверки гипотезы будем использовать $z$-критерий.  \n",
    "$z_н=\\frac{\\bar X-\\mu_0}{\\sigma/\\sqrt n}$, где  \n",
    "$\\bar X=\\mu=17.5$ среднее по выборке,  \n",
    "$\\sigma=\\sqrt 4=2$ среднее квадратическое отклонение генеральной совокупности,  \n",
    "$n=100$ размер выборки.  "
   ]
  },
  {
   "cell_type": "code",
   "execution_count": 7,
   "id": "opposite-biology",
   "metadata": {},
   "outputs": [
    {
     "name": "stdout",
     "output_type": "stream",
     "text": [
      "Наблюдаемое значение z-критерия:  2.5000\n"
     ]
    }
   ],
   "source": [
    "z=(17.5-17)/0.2\n",
    "print(f'Наблюдаемое значение z-критерия: {z: .4f}')"
   ]
  },
  {
   "cell_type": "markdown",
   "id": "celtic-defensive",
   "metadata": {},
   "source": [
    "Найдем табличное значение $z$-критерия, для $\\alpha=0.05$"
   ]
  },
  {
   "cell_type": "code",
   "execution_count": 8,
   "id": "distinguished-condition",
   "metadata": {},
   "outputs": [
    {
     "name": "stdout",
     "output_type": "stream",
     "text": [
      "Табличное значение z-критерия:  1.6449\n"
     ]
    }
   ],
   "source": [
    "zt=stats.norm.ppf(0.95)\n",
    "print(f'Табличное значение z-критерия: {zt: .4f}')"
   ]
  },
  {
   "cell_type": "markdown",
   "id": "relative-advantage",
   "metadata": {},
   "source": [
    "Сравним полученные значения: "
   ]
  },
  {
   "cell_type": "code",
   "execution_count": 9,
   "id": "thrown-warehouse",
   "metadata": {
    "scrolled": true
   },
   "outputs": [
    {
     "data": {
      "text/plain": [
       "False"
      ]
     },
     "execution_count": 9,
     "metadata": {},
     "output_type": "execute_result"
    }
   ],
   "source": [
    "z<zt"
   ]
  },
  {
   "cell_type": "markdown",
   "id": "quality-transaction",
   "metadata": {},
   "source": [
    "Поскольку $z_н>z_t$, **отвергаем** нулевую гипотезу на уровне значимости $\\alpha=0.05$"
   ]
  },
  {
   "cell_type": "markdown",
   "id": "hawaiian-prior",
   "metadata": {},
   "source": [
    "---  \n",
    "#### Ответ:  \n",
    "**Отвергаем** нулевую гипотезу $H0: \\mu_0=17$ на уровне значимости $\\alpha=0.05$  \n",
    "\n",
    "---"
   ]
  },
  {
   "cell_type": "markdown",
   "id": "proud-millennium",
   "metadata": {},
   "source": [
    "**3. Продавец утверждает, что средний вес пачки печенья составляет 200 г. Из партии извлечена выборка из 10 пачек. Вес каждой пачки составляет: 202, 203, 199, 197, 195, 201, 200, 204, 194, 190. Известно, что их веса распределены нормально. Верно ли утверждение продавца, если учитывать, что доверительная вероятность равна 99%?**  "
   ]
  },
  {
   "cell_type": "markdown",
   "id": "computational-greensboro",
   "metadata": {},
   "source": [
    "Из условия задачи следует что нужно проводить проверку следующих гипотез:  \n",
    "$H0: \\mu=\\mu_0=200$, где $\\mu$ и $\\mu_0$ средние выборки и генеральной совокупности и выборки, соответственно.  \n",
    "Альтернативная гипотеза:  \n",
    "$H1: \\mu\\neq\\mu_0$  \n",
    "при этом будем использовать **двусторонний** критерий c уровнем значимости $\\alpha=1-0.99=0.01$  \n",
    "Поскольку нам не известны ни среднее, ни дисперсия генеральной совокупности, то для проверки гипотезы будем использовать $t$-критерий.    "
   ]
  },
  {
   "cell_type": "code",
   "execution_count": 10,
   "id": "lined-marking",
   "metadata": {},
   "outputs": [],
   "source": [
    "cookies=np.array([202, 203, 199, 197, 195, 201, 200, 204, 194, 190])"
   ]
  },
  {
   "cell_type": "markdown",
   "id": "suburban-clone",
   "metadata": {},
   "source": [
    "Расчитаем наблюдаемое значение t-критерия $t_н$"
   ]
  },
  {
   "cell_type": "code",
   "execution_count": 11,
   "id": "convertible-arbor",
   "metadata": {},
   "outputs": [
    {
     "name": "stdout",
     "output_type": "stream",
     "text": [
      "Наблюдаемое значение t-критерия: -1.0651\n"
     ]
    }
   ],
   "source": [
    "tn=(np.mean(cookies)-200)/(np.std(cookies,ddof=1)/len(cookies)**0.5)\n",
    "print(f'Наблюдаемое значение t-критерия: {tn: .4f}')"
   ]
  },
  {
   "cell_type": "markdown",
   "id": "backed-schedule",
   "metadata": {},
   "source": [
    "Найдем табличное значение $t$-критерия $t_t$, для $\\alpha/2=0.01/2=0.005$"
   ]
  },
  {
   "cell_type": "code",
   "execution_count": 12,
   "id": "broadband-fight",
   "metadata": {},
   "outputs": [
    {
     "name": "stdout",
     "output_type": "stream",
     "text": [
      "Табличное значение t-критерия:  3.2498\n"
     ]
    }
   ],
   "source": [
    "tt=stats.t.ppf(0.995,len(cookies)-1)\n",
    "print(f'Табличное значение t-критерия: {tt: .4f}')"
   ]
  },
  {
   "cell_type": "markdown",
   "id": "amino-craft",
   "metadata": {},
   "source": [
    "Сравним полученные значения (поскольку у нас двусторонний критерий, то используем абсолютное значение полученного t-критерия):"
   ]
  },
  {
   "cell_type": "code",
   "execution_count": 13,
   "id": "extensive-breed",
   "metadata": {},
   "outputs": [
    {
     "data": {
      "text/plain": [
       "True"
      ]
     },
     "execution_count": 13,
     "metadata": {},
     "output_type": "execute_result"
    }
   ],
   "source": [
    "np.abs(tn)<tt"
   ]
  },
  {
   "cell_type": "markdown",
   "id": "legendary-circumstances",
   "metadata": {},
   "source": [
    "Поскольку $|t_н|<t_t$, **принимаем** нулевую гипотезу на уровне значимости $\\alpha=0.01$"
   ]
  },
  {
   "cell_type": "markdown",
   "id": "baking-newsletter",
   "metadata": {},
   "source": [
    "---  \n",
    "#### Ответ:  \n",
    "**Принимаем** нулевую гипотезу $H0: \\mu_0=200$ на уровне значимости $\\alpha=0.01$  \n",
    "\n",
    "---"
   ]
  },
  {
   "cell_type": "markdown",
   "id": "d8eb0851-f288-43c7-82cc-38f200114dbc",
   "metadata": {},
   "source": [
    "**4. Есть ли статистически значимые различия в среднем росте матерей и дочерей?**\n",
    "Рост матерей 172, 177, 158, 170, 178,175, 164, 160, 169, 165  \n",
    "Рост взрослых дочерей: 173, 175, 162, 174, 175, 168, 155, 170, 160, 163  \n",
    "(Решать с помощью функции.)  "
   ]
  },
  {
   "cell_type": "code",
   "execution_count": 14,
   "id": "549ccb43-97a8-4548-bee3-6ac432219da3",
   "metadata": {},
   "outputs": [],
   "source": [
    "import scipy.stats as stats"
   ]
  },
  {
   "cell_type": "code",
   "execution_count": 15,
   "id": "db64fc14-911b-4b73-b168-166144eb1476",
   "metadata": {},
   "outputs": [
    {
     "data": {
      "text/plain": [
       "TtestResult(statistic=0.6648478531431979, pvalue=0.5228168632983574, df=9)"
      ]
     },
     "execution_count": 15,
     "metadata": {},
     "output_type": "execute_result"
    }
   ],
   "source": [
    "arr1 = [172, 177, 158, 170, 178, 175, 164, 160, 169, 165]\n",
    "arr2 = [173, 175, 162, 174, 175, 168, 155, 170, 160, 163]\n",
    "\n",
    "stats.ttest_rel(arr1, arr2)"
   ]
  },
  {
   "cell_type": "markdown",
   "id": "00cc084d-8303-4f84-878f-d5530c0b7736",
   "metadata": {},
   "source": [
    "Так как $p-value > \\alpha (0,05)$, то нулевая гипотеза $H_0$ не отвергается на уровне значимости $\\alpha (0,05)$  \n",
    "Статистически заничмых различий в среднем росте матерей и дочерей нет."
   ]
  }
 ],
 "metadata": {
  "kernelspec": {
   "display_name": "Python 3 (ipykernel)",
   "language": "python",
   "name": "python3"
  },
  "language_info": {
   "codemirror_mode": {
    "name": "ipython",
    "version": 3
   },
   "file_extension": ".py",
   "mimetype": "text/x-python",
   "name": "python",
   "nbconvert_exporter": "python",
   "pygments_lexer": "ipython3",
   "version": "3.10.10"
  }
 },
 "nbformat": 4,
 "nbformat_minor": 5
}
