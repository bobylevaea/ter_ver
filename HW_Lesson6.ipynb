{
 "cells": [
  {
   "cell_type": "code",
   "execution_count": 1,
   "metadata": {},
   "outputs": [],
   "source": [
    "import numpy as np\n",
    "from scipy import stats"
   ]
  },
  {
   "attachments": {},
   "cell_type": "markdown",
   "metadata": {},
   "source": [
    "#### Задача 1\n",
    "\n",
    "    Известно, что генеральная совокупность распределена нормально со средним квадратическим отклонением, равным 16.\n",
    "    Найти доверительный интервал для оценки математического ожидания с надежностью 0.95, если выборочная средняя M = 80, а объем выборки n = 256."
   ]
  },
  {
   "attachments": {},
   "cell_type": "markdown",
   "metadata": {},
   "source": [
    "При известной $\\sigma$ генеральной совокупности для расчета доверительного интервала пирменяется $Z$-критерий.\\\n",
    "$n=256$ - объем выборки\\\n",
    "$\\bar X=M=80$ - среднее значение выборки   \n",
    "$\\sigma=16$ - среднее квадратическое отклонение генеральной совокупности  \n",
    "$z_{\\alpha/2}=1,96$  - табличное значение $Z$-критерия для $95\\%$ доверительного интервала      \n",
    "Формула нахождения доверительного интервала  \n",
    "$\\displaystyle\\bar X\\pm z_{\\alpha/2}\\cdot\\frac{\\sigma}{\\sqrt n}$   \n"
   ]
  },
  {
   "cell_type": "code",
   "execution_count": 2,
   "metadata": {},
   "outputs": [],
   "source": [
    "sigma = 16\n",
    "n = 256\n",
    "p = 0.95\n",
    "x_mean = 80\n",
    "alpha = 1-p"
   ]
  },
  {
   "cell_type": "code",
   "execution_count": 3,
   "metadata": {},
   "outputs": [
    {
     "data": {
      "text/plain": [
       "(-1.959963984540054, 1.959963984540054)"
      ]
     },
     "execution_count": 3,
     "metadata": {},
     "output_type": "execute_result"
    }
   ],
   "source": [
    "t1 = stats.norm.ppf(alpha/2)\n",
    "t2 = stats.norm.ppf(1 - alpha/2)\n",
    "t1, t2"
   ]
  },
  {
   "cell_type": "code",
   "execution_count": 4,
   "metadata": {},
   "outputs": [
    {
     "name": "stdout",
     "output_type": "stream",
     "text": [
      ">>> Доверительный интервал: [78.04003601545995 ; 81.95996398454005].\n"
     ]
    }
   ],
   "source": [
    "l_border=x_mean+t1*sigma/np.sqrt(n)\n",
    "r_border=x_mean+t2*sigma/np.sqrt(n)\n",
    "print(f'>>> Доверительный интервал: [{l_border} ; {r_border}].')"
   ]
  },
  {
   "attachments": {},
   "cell_type": "markdown",
   "metadata": {},
   "source": [
    "#### Задача 2\n",
    "    В результате 10 независимых измерений некоторой величины X, выполненных с одинаковой точностью,  \n",
    "    получены опытные данные: 6.9, 6.1, 6.2, 6.8, 7.5, 6.3, 6.4, 6.9, 6.7, 6.1  \n",
    "    Предполагая, что результаты измерений подчинены нормальному закону распределения вероятностей, оценить истинное значение величины X  \n",
    "    при помощи доверительного интервала, покрывающего это значение с доверительной вероятностью 0,95."
   ]
  },
  {
   "attachments": {},
   "cell_type": "markdown",
   "metadata": {},
   "source": [
    "Если $\\sigma$ неизвестна, вычисляем ее по выборке, используя формулу для несмещенного стандартного отклонения.   \n",
    "$\\displaystyle\\bar X\\pm t_{\\alpha/2}\\cdot\\frac{\\sigma}{\\sqrt{n}}$  "
   ]
  },
  {
   "cell_type": "code",
   "execution_count": 5,
   "metadata": {},
   "outputs": [
    {
     "name": "stdout",
     "output_type": "stream",
     "text": [
      ">>> Среднее квадратическое отклонение по выборке(несмещенное): 0.4508017549014448\n",
      ">>> Среднее арифметическое для выборки: 6.590000000000001\n"
     ]
    }
   ],
   "source": [
    "x = np.array([6.9, 6.1, 6.2, 6.8, 7.5, 6.3, 6.4, 6.9, 6.7, 6.1])\n",
    "\n",
    "sigma = x.std(ddof = 1)\n",
    "n = x.shape[0]\n",
    "p = 0.95\n",
    "mean = x.mean()\n",
    "alpha = 1-p\n",
    "\n",
    "print(f'>>> Среднее квадратическое отклонение по выборке(несмещенное): {sigma}')\n",
    "print(f'>>> Среднее арифметическое для выборки: {mean}')"
   ]
  },
  {
   "cell_type": "code",
   "execution_count": 6,
   "metadata": {},
   "outputs": [
    {
     "data": {
      "text/plain": [
       "(-2.2621571627409915, 2.2621571627409915)"
      ]
     },
     "execution_count": 6,
     "metadata": {},
     "output_type": "execute_result"
    }
   ],
   "source": [
    "t1 = stats.t.ppf(alpha/2, df=n-1)\n",
    "t2 = stats.t.ppf(1 - alpha/2, df=n-1)\n",
    "t1, t2"
   ]
  },
  {
   "cell_type": "code",
   "execution_count": 7,
   "metadata": {},
   "outputs": [
    {
     "name": "stdout",
     "output_type": "stream",
     "text": [
      ">>> Доверительный интервал: [6.267515851415713 ; 6.912484148584288].\n"
     ]
    }
   ],
   "source": [
    "l_border=mean+t1*sigma/np.sqrt(n)\n",
    "r_border=mean+t2*sigma/np.sqrt(n)\n",
    "print(f'>>> Доверительный интервал: [{l_border} ; {r_border}].')"
   ]
  },
  {
   "attachments": {},
   "cell_type": "markdown",
   "metadata": {},
   "source": [
    "#### Задача 3\n",
    "    Рост дочерей 175, 167, 154, 174, 178, 148, 160, 167, 169, 170  \n",
    "    Рост матерей 178, 165, 165, 173, 168, 155, 160, 164, 178, 175  \n",
    "    Используя эти данные построить 95% доверительный интервал для разности среднего роста родителей и детей."
   ]
  },
  {
   "attachments": {},
   "cell_type": "markdown",
   "metadata": {},
   "source": [
    "Интервальная оценка для разности средних арифметических по формуле: \n",
    " \n",
    "$\\bar{x}_1 - \\bar{x}_2 \\pm t{\\frac{\\alpha}{2}} \\sqrt{\\frac{s_1^2}{n_1} + \\frac{s_2^2}{n_2}}$\n",
    "\n",
    "где:  \n",
    "$\\bar{x}_1$ - среднее арифметическое в группе 1  \n",
    "$\\bar{x}_2$ - среднее арифметическое в группе 2  \n",
    "$s_1^2$ - дисперсия в группе 1  \n",
    "$s_2^2$ - дисперсия в группе 2  \n",
    "$n_1$ - число элементов в группе 1  \n",
    "$n_2$ - число элементов в группе 2  "
   ]
  },
  {
   "cell_type": "code",
   "execution_count": 8,
   "metadata": {},
   "outputs": [],
   "source": [
    "x = np.array([175, 167, 154, 174, 178, 148, 160, 167, 169, 170])\n",
    "y = np.array([178, 165, 165, 173, 168, 155, 160, 164, 178, 175])\n",
    "\n",
    "n1 = x.shape[0]\n",
    "n2 = y.shape[0]"
   ]
  },
  {
   "cell_type": "code",
   "execution_count": 9,
   "metadata": {},
   "outputs": [
    {
     "data": {
      "text/plain": [
       "(91.06666666666666, 60.10000000000001, 75.58333333333334, 3.888015775002291)"
      ]
     },
     "execution_count": 9,
     "metadata": {},
     "output_type": "execute_result"
    }
   ],
   "source": [
    "d1 = x.var(ddof=1)\n",
    "d2 = y.var(ddof=1)\n",
    "\n",
    "d = (d1+d2)/2\n",
    "s_delta = np.sqrt(d1/n1 + d2/n2)\n",
    "d1, d2, d, s_delta"
   ]
  },
  {
   "cell_type": "code",
   "execution_count": 10,
   "metadata": {},
   "outputs": [
    {
     "data": {
      "text/plain": [
       "(-2.10092204024096, 2.10092204024096)"
      ]
     },
     "execution_count": 10,
     "metadata": {},
     "output_type": "execute_result"
    }
   ],
   "source": [
    "p = 0.95\n",
    "alpha = 1-p\n",
    "\n",
    "t1 = stats.t.ppf(alpha/2, df=2*(n-1))\n",
    "t2 = stats.t.ppf(1 - alpha/2, df=2*(n-1))\n",
    "t1, t2"
   ]
  },
  {
   "cell_type": "code",
   "execution_count": 11,
   "metadata": {},
   "outputs": [
    {
     "name": "stdout",
     "output_type": "stream",
     "text": [
      ">>> 95% доверительный интервал для разности среднего: [-10.068418034506857 ; 6.268418034506846].\n"
     ]
    }
   ],
   "source": [
    "l_border=x.mean() - y.mean()+t1*s_delta\n",
    "r_border=x.mean() - y.mean()+t2*s_delta\n",
    "print(f'>>> 95% доверительный интервал для разности среднего: [{l_border} ; {r_border}].')"
   ]
  }
 ],
 "metadata": {
  "kernelspec": {
   "display_name": "Python 3 (ipykernel)",
   "language": "python",
   "name": "python3"
  },
  "language_info": {
   "codemirror_mode": {
    "name": "ipython",
    "version": 3
   },
   "file_extension": ".py",
   "mimetype": "text/x-python",
   "name": "python",
   "nbconvert_exporter": "python",
   "pygments_lexer": "ipython3",
   "version": "3.10.10"
  },
  "vscode": {
   "interpreter": {
    "hash": "f99b0d7b2032c78286f87aca85b3d6980edc424abfeeb901c0d39dce752615a7"
   }
  }
 },
 "nbformat": 4,
 "nbformat_minor": 4
}
