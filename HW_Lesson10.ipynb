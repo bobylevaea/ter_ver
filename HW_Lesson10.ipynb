{
 "cells": [
  {
   "cell_type": "markdown",
   "metadata": {},
   "source": [
    "## Задача 1. \n",
    "Провести дисперсионный анализ для определения того, есть ли различия среднего роста среди взрослых футболистов, хоккеистов и штангистов.  \n",
    "Даны значения роста в трех группах случайно выбранных спортсменов:  \n",
    "Футболисты: 173, 175, 180, 178, 177, 185, 183, 182.  \n",
    "Хоккеисты: 177, 179, 180, 188, 177, 172, 171, 184, 180.  \n",
    "Штангисты: 172, 173, 169, 177, 166, 180, 178, 177, 172, 166, 170.  \n",
    "\n",
    "#### 1. Определим гипотезу  \n",
    "\n",
    "Основная гипотеза $H_0: \\mu_1=\\mu_2=\\mu_3$  \n",
    "Альтернативная гипотеза $H_1: \\mu_1\\neq\\mu_2\\neq\\mu_3$  "
   ]
  },
  {
   "cell_type": "code",
   "execution_count": 1,
   "metadata": {},
   "outputs": [],
   "source": [
    "import numpy as np\n",
    "import pandas as pd\n",
    "from scipy import stats\n",
    "from statsmodels.stats.multicomp import pairwise_tukeyhsd\n",
    "import pandas as pd"
   ]
  },
  {
   "cell_type": "code",
   "execution_count": 2,
   "metadata": {},
   "outputs": [],
   "source": [
    "football = np.array([173, 175, 180, 178, 177, 185, 183, 182])\n",
    "hockey = np.array([177, 179, 180, 188, 177, 172, 171, 184, 180])\n",
    "weightlifters = np.array([172, 173, 169, 177, 166, 180, 178, 177, 172, 166, 170])"
   ]
  },
  {
   "cell_type": "code",
   "execution_count": 3,
   "metadata": {},
   "outputs": [],
   "source": [
    "# Определяем уровень значимости для всех тестов\n",
    "alpha = 0.05"
   ]
  },
  {
   "cell_type": "code",
   "execution_count": 4,
   "metadata": {},
   "outputs": [
    {
     "name": "stdout",
     "output_type": "stream",
     "text": [
      "ShapiroResult(statistic=0.9775082468986511, pvalue=0.9495404362678528)\n",
      "ShapiroResult(statistic=0.9579196572303772, pvalue=0.7763139009475708)\n",
      "ShapiroResult(statistic=0.9386808276176453, pvalue=0.5051165223121643)\n"
     ]
    }
   ],
   "source": [
    "# Проводим тест на нормальность распределения выборок\n",
    "print(stats.shapiro(football))\n",
    "print(stats.shapiro(hockey))\n",
    "print(stats.shapiro(weightlifters))"
   ]
  },
  {
   "cell_type": "markdown",
   "metadata": {},
   "source": [
    "$p-value > \\alpha \\Rightarrow H_0$ не отвергается, распределения всех выборок нормальное. Это означает, что предпосылка о нормальности данных для применения ANOVA выполняется."
   ]
  },
  {
   "cell_type": "code",
   "execution_count": 5,
   "metadata": {},
   "outputs": [
    {
     "name": "stdout",
     "output_type": "stream",
     "text": [
      "BartlettResult(statistic=0.4640521043406442, pvalue=0.7929254656083131)\n"
     ]
    }
   ],
   "source": [
    "# Проводим тест на равенство дисперсий\n",
    "print(stats.bartlett(football, hockey, weightlifters))"
   ]
  },
  {
   "cell_type": "markdown",
   "metadata": {},
   "source": [
    "$p-value > \\alpha \\Rightarrow H_0$ не отвергается, дисперсии выборок равны. Это подтверждает, что предпосылка о равенстве дисперсий для применения ANOVA выполняется."
   ]
  },
  {
   "cell_type": "code",
   "execution_count": 6,
   "metadata": {},
   "outputs": [
    {
     "name": "stdout",
     "output_type": "stream",
     "text": [
      "False\n"
     ]
    }
   ],
   "source": [
    "# Проводи проверку равенства размерности выборок\n",
    "print(len(football)==len(hockey)==len(weightlifters))"
   ]
  },
  {
   "cell_type": "code",
   "execution_count": 7,
   "metadata": {},
   "outputs": [
    {
     "name": "stdout",
     "output_type": "stream",
     "text": [
      "8\n",
      "9\n",
      "11\n"
     ]
    }
   ],
   "source": [
    "print(len(football))\n",
    "print(len(hockey))\n",
    "print(len(weightlifters))"
   ]
  },
  {
   "cell_type": "markdown",
   "metadata": {},
   "source": [
    "Данные удовлетворяют предпосылкам нормальности и равенства дисперсий, а также имеют умеренное несоответствие в размерах выборок, будем использовать ANOVA для сравнения средних значений между группами."
   ]
  },
  {
   "cell_type": "code",
   "execution_count": 8,
   "metadata": {},
   "outputs": [
    {
     "data": {
      "text/plain": [
       "F_onewayResult(statistic=5.500053450812596, pvalue=0.010482206918698693)"
      ]
     },
     "execution_count": 8,
     "metadata": {},
     "output_type": "execute_result"
    }
   ],
   "source": [
    "stats.f_oneway(football, hockey, weightlifters)"
   ]
  },
  {
   "cell_type": "markdown",
   "metadata": {},
   "source": [
    "Cуществует статистически значимая разница между группами (p-value < 0.05)."
   ]
  },
  {
   "cell_type": "markdown",
   "metadata": {},
   "source": [
    "#### Проводим Post hoc тест Тьюки"
   ]
  },
  {
   "cell_type": "code",
   "execution_count": 9,
   "metadata": {},
   "outputs": [
    {
     "data": {
      "text/html": [
       "<div>\n",
       "<style scoped>\n",
       "    .dataframe tbody tr th:only-of-type {\n",
       "        vertical-align: middle;\n",
       "    }\n",
       "\n",
       "    .dataframe tbody tr th {\n",
       "        vertical-align: top;\n",
       "    }\n",
       "\n",
       "    .dataframe thead th {\n",
       "        text-align: right;\n",
       "    }\n",
       "</style>\n",
       "<table border=\"1\" class=\"dataframe\">\n",
       "  <thead>\n",
       "    <tr style=\"text-align: right;\">\n",
       "      <th></th>\n",
       "      <th>score</th>\n",
       "      <th>group</th>\n",
       "    </tr>\n",
       "  </thead>\n",
       "  <tbody>\n",
       "    <tr>\n",
       "      <th>0</th>\n",
       "      <td>173</td>\n",
       "      <td>football</td>\n",
       "    </tr>\n",
       "    <tr>\n",
       "      <th>1</th>\n",
       "      <td>175</td>\n",
       "      <td>football</td>\n",
       "    </tr>\n",
       "    <tr>\n",
       "      <th>2</th>\n",
       "      <td>180</td>\n",
       "      <td>football</td>\n",
       "    </tr>\n",
       "    <tr>\n",
       "      <th>3</th>\n",
       "      <td>178</td>\n",
       "      <td>football</td>\n",
       "    </tr>\n",
       "    <tr>\n",
       "      <th>4</th>\n",
       "      <td>177</td>\n",
       "      <td>football</td>\n",
       "    </tr>\n",
       "    <tr>\n",
       "      <th>5</th>\n",
       "      <td>185</td>\n",
       "      <td>football</td>\n",
       "    </tr>\n",
       "    <tr>\n",
       "      <th>6</th>\n",
       "      <td>183</td>\n",
       "      <td>football</td>\n",
       "    </tr>\n",
       "    <tr>\n",
       "      <th>7</th>\n",
       "      <td>182</td>\n",
       "      <td>football</td>\n",
       "    </tr>\n",
       "    <tr>\n",
       "      <th>8</th>\n",
       "      <td>177</td>\n",
       "      <td>hockey</td>\n",
       "    </tr>\n",
       "    <tr>\n",
       "      <th>9</th>\n",
       "      <td>179</td>\n",
       "      <td>hockey</td>\n",
       "    </tr>\n",
       "    <tr>\n",
       "      <th>10</th>\n",
       "      <td>180</td>\n",
       "      <td>hockey</td>\n",
       "    </tr>\n",
       "    <tr>\n",
       "      <th>11</th>\n",
       "      <td>188</td>\n",
       "      <td>hockey</td>\n",
       "    </tr>\n",
       "    <tr>\n",
       "      <th>12</th>\n",
       "      <td>177</td>\n",
       "      <td>hockey</td>\n",
       "    </tr>\n",
       "    <tr>\n",
       "      <th>13</th>\n",
       "      <td>172</td>\n",
       "      <td>hockey</td>\n",
       "    </tr>\n",
       "    <tr>\n",
       "      <th>14</th>\n",
       "      <td>171</td>\n",
       "      <td>hockey</td>\n",
       "    </tr>\n",
       "    <tr>\n",
       "      <th>15</th>\n",
       "      <td>184</td>\n",
       "      <td>hockey</td>\n",
       "    </tr>\n",
       "    <tr>\n",
       "      <th>16</th>\n",
       "      <td>180</td>\n",
       "      <td>hockey</td>\n",
       "    </tr>\n",
       "    <tr>\n",
       "      <th>17</th>\n",
       "      <td>172</td>\n",
       "      <td>weightlifters</td>\n",
       "    </tr>\n",
       "    <tr>\n",
       "      <th>18</th>\n",
       "      <td>173</td>\n",
       "      <td>weightlifters</td>\n",
       "    </tr>\n",
       "    <tr>\n",
       "      <th>19</th>\n",
       "      <td>169</td>\n",
       "      <td>weightlifters</td>\n",
       "    </tr>\n",
       "    <tr>\n",
       "      <th>20</th>\n",
       "      <td>177</td>\n",
       "      <td>weightlifters</td>\n",
       "    </tr>\n",
       "    <tr>\n",
       "      <th>21</th>\n",
       "      <td>166</td>\n",
       "      <td>weightlifters</td>\n",
       "    </tr>\n",
       "    <tr>\n",
       "      <th>22</th>\n",
       "      <td>180</td>\n",
       "      <td>weightlifters</td>\n",
       "    </tr>\n",
       "    <tr>\n",
       "      <th>23</th>\n",
       "      <td>178</td>\n",
       "      <td>weightlifters</td>\n",
       "    </tr>\n",
       "    <tr>\n",
       "      <th>24</th>\n",
       "      <td>177</td>\n",
       "      <td>weightlifters</td>\n",
       "    </tr>\n",
       "    <tr>\n",
       "      <th>25</th>\n",
       "      <td>172</td>\n",
       "      <td>weightlifters</td>\n",
       "    </tr>\n",
       "    <tr>\n",
       "      <th>26</th>\n",
       "      <td>166</td>\n",
       "      <td>weightlifters</td>\n",
       "    </tr>\n",
       "    <tr>\n",
       "      <th>27</th>\n",
       "      <td>170</td>\n",
       "      <td>weightlifters</td>\n",
       "    </tr>\n",
       "  </tbody>\n",
       "</table>\n",
       "</div>"
      ],
      "text/plain": [
       "    score          group\n",
       "0     173       football\n",
       "1     175       football\n",
       "2     180       football\n",
       "3     178       football\n",
       "4     177       football\n",
       "5     185       football\n",
       "6     183       football\n",
       "7     182       football\n",
       "8     177         hockey\n",
       "9     179         hockey\n",
       "10    180         hockey\n",
       "11    188         hockey\n",
       "12    177         hockey\n",
       "13    172         hockey\n",
       "14    171         hockey\n",
       "15    184         hockey\n",
       "16    180         hockey\n",
       "17    172  weightlifters\n",
       "18    173  weightlifters\n",
       "19    169  weightlifters\n",
       "20    177  weightlifters\n",
       "21    166  weightlifters\n",
       "22    180  weightlifters\n",
       "23    178  weightlifters\n",
       "24    177  weightlifters\n",
       "25    172  weightlifters\n",
       "26    166  weightlifters\n",
       "27    170  weightlifters"
      ]
     },
     "execution_count": 9,
     "metadata": {},
     "output_type": "execute_result"
    }
   ],
   "source": [
    "df = pd.DataFrame({\"score\": [173, 175, 180, 178, 177, 185, 183, 182, \n",
    "                             177, 179, 180, 188, 177, 172, 171, 184, 180,\n",
    "                             172, 173, 169, 177, 166, 180, 178, 177, 172, 166, 170],\n",
    "                   \"group\": np.repeat([\"football\", \"hockey\", \"weightlifters\"], repeats = [8, 9, 11])})\n",
    "df"
   ]
  },
  {
   "cell_type": "code",
   "execution_count": 10,
   "metadata": {},
   "outputs": [
    {
     "name": "stdout",
     "output_type": "stream",
     "text": [
      "     Multiple Comparison of Means - Tukey HSD, FWER=0.05      \n",
      "==============================================================\n",
      " group1      group2    meandiff p-adj   lower    upper  reject\n",
      "--------------------------------------------------------------\n",
      "football        hockey  -0.4583  0.979  -6.2732  5.3566  False\n",
      "football weightlifters  -6.3977 0.0219 -11.9583 -0.8372   True\n",
      "  hockey weightlifters  -5.9394 0.0284 -11.3181 -0.5607   True\n",
      "--------------------------------------------------------------\n"
     ]
    }
   ],
   "source": [
    "tukey = pairwise_tukeyhsd(df[\"score\"], df[\"group\"], alpha = 0.05)\n",
    "print(tukey)"
   ]
  },
  {
   "cell_type": "markdown",
   "metadata": {},
   "source": [
    "#### 5. Выводы\n",
    "Между группой football и hockey нет различий в среднем росте, тогда как между группами football и weightlifters, а так же между группами hockey и weightlifters есть различия в среднем росте.\n",
    "\n",
    "Доверительный интервал для разницы средних между группой football и группой weightlifters указывает на то, что он левее нуля, что означает статистически значимое различие между группами, и среднее значение для группы weightlifters меньше, чем для группы football. Следовательно, можно утверждать, что тяжелоатлеты имеют статистически значимо более низкие средние значения, чем футболисты. Данное утверждение справедливо и для групп hockey, weightlifters, таким образом, тяжелоатлеты имеют статистически значимо более низкие средние значения, чем хоккеисты."
   ]
  }
 ],
 "metadata": {
  "kernelspec": {
   "display_name": "Python 3 (ipykernel)",
   "language": "python",
   "name": "python3"
  },
  "language_info": {
   "codemirror_mode": {
    "name": "ipython",
    "version": 3
   },
   "file_extension": ".py",
   "mimetype": "text/x-python",
   "name": "python",
   "nbconvert_exporter": "python",
   "pygments_lexer": "ipython3",
   "version": "3.10.10"
  }
 },
 "nbformat": 4,
 "nbformat_minor": 4
}
